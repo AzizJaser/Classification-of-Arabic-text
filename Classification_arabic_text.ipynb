{
  "metadata": {
    "kernelspec": {
      "language": "python",
      "display_name": "Python 3",
      "name": "python3"
    },
    "language_info": {
      "name": "python",
      "version": "3.10.12",
      "mimetype": "text/x-python",
      "codemirror_mode": {
        "name": "ipython",
        "version": 3
      },
      "pygments_lexer": "ipython3",
      "nbconvert_exporter": "python",
      "file_extension": ".py"
    },
    "kaggle": {
      "accelerator": "none",
      "dataSources": [
        {
          "sourceId": 1401544,
          "sourceType": "datasetVersion",
          "datasetId": 819052
        }
      ],
      "dockerImageVersionId": 30558,
      "isInternetEnabled": true,
      "language": "python",
      "sourceType": "notebook",
      "isGpuEnabled": false
    },
    "colab": {
      "provenance": [],
      "include_colab_link": true
    }
  },
  "nbformat_minor": 0,
  "nbformat": 4,
  "cells": [
    {
      "cell_type": "markdown",
      "metadata": {
        "id": "view-in-github",
        "colab_type": "text"
      },
      "source": [
        "<a href=\"https://colab.research.google.com/github/AzizJaser/Classification-of-Arabic-text/blob/main/Classification_arabic_text.ipynb\" target=\"_parent\"><img src=\"https://colab.research.google.com/assets/colab-badge.svg\" alt=\"Open In Colab\"/></a>"
      ]
    },
    {
      "cell_type": "code",
      "source": [
        "# This Python 3 environment comes with many helpful analytics libraries installed\n",
        "# It is defined by the kaggle/python Docker image: https://github.com/kaggle/docker-python\n",
        "# For example, here's several helpful packages to load\n",
        "\n",
        "#import numpy as np # linear algebra\n",
        "#import pandas as pd # data processing, CSV file I/O (e.g. pd.read_csv)\n",
        "\n",
        "# Input data files are available in the read-only \"../input/\" directory\n",
        "# For example, running this (by clicking run or pressing Shift+Enter) will list all files under the input directory\n",
        "\n",
        "#import os\n",
        "#for dirname, _, filenames in os.walk('/kaggle/input'):\n",
        "#    for filename in filenames:\n",
        "#        print(os.path.join(dirname, filename))\n",
        "\n",
        "# You can write up to 20GB to the current directory (/kaggle/working/) that gets preserved as output when you create a version using \"Save & Run All\"\n",
        "# You can also write temporary files to /kaggle/temp/, but they won't be saved outside of the current session"
      ],
      "metadata": {
        "_uuid": "8f2839f25d086af736a60e9eeb907d3b93b6e0e5",
        "_cell_guid": "b1076dfc-b9ad-4769-8c92-a6c4dae69d19",
        "trusted": true,
        "id": "zSC3EqGJitI8"
      },
      "execution_count": null,
      "outputs": []
    },
    {
      "cell_type": "markdown",
      "source": [
        "# Reading the Data"
      ],
      "metadata": {
        "id": "bJNcosR-itJB"
      }
    },
    {
      "cell_type": "code",
      "source": [
        "import glob\n",
        "import pandas as pd\n",
        "\n",
        "# Define the categories\n",
        "categories = [\"Culture\", \"Finance\", \"Medical\", \"Sports\", \"Tech\"]\n",
        "\n",
        "# Initialize an empty list to store DataFrame rows\n",
        "data = []\n",
        "\n",
        "# Loop over the categories\n",
        "for category in categories:\n",
        "    # Get a list of all files in the current category directory\n",
        "    files = glob.glob(f\"/kaggle/input/sanad-dataset/{category}/*.txt\")\n",
        "\n",
        "    # Loop over the files\n",
        "    for file in files:\n",
        "        # Open the file and read the text\n",
        "        with open(file, 'r', encoding='utf-8') as f:\n",
        "            text = f.read()\n",
        "\n",
        "        # Add the data to the list\n",
        "        data.append({\"category\": category, \"text\": text})\n",
        "\n",
        "# Create the DataFrame\n",
        "df = pd.DataFrame(data)"
      ],
      "metadata": {
        "execution": {
          "iopub.status.busy": "2023-11-02T14:48:49.015790Z",
          "iopub.execute_input": "2023-11-02T14:48:49.016198Z",
          "iopub.status.idle": "2023-11-02T14:50:23.432787Z",
          "shell.execute_reply.started": "2023-11-02T14:48:49.016164Z",
          "shell.execute_reply": "2023-11-02T14:50:23.431760Z"
        },
        "trusted": true,
        "id": "uEWa1NQ0itJE"
      },
      "execution_count": null,
      "outputs": []
    },
    {
      "cell_type": "code",
      "source": [
        "df.head()"
      ],
      "metadata": {
        "execution": {
          "iopub.status.busy": "2023-11-02T14:50:51.500081Z",
          "iopub.execute_input": "2023-11-02T14:50:51.500650Z",
          "iopub.status.idle": "2023-11-02T14:50:51.524647Z",
          "shell.execute_reply.started": "2023-11-02T14:50:51.500616Z",
          "shell.execute_reply": "2023-11-02T14:50:51.523308Z"
        },
        "trusted": true,
        "id": "iX2aaSlmitJG",
        "outputId": "385ca7a8-c099-47fd-e31d-3593854413d9"
      },
      "execution_count": null,
      "outputs": [
        {
          "execution_count": 2,
          "output_type": "execute_result",
          "data": {
            "text/plain": "  category                                               text\n0  Culture  أبوظبي: آلاء عبد الغني تناولت الجلسة الثانية ف...\n1  Culture  أعلنت مكتبة الإسكندرية أمس أنها تعمل على تنظيم...\n2  Culture  أعلنت هيئة أبوظبي للسياحة والثقافة عن اختيار ا...\n3  Culture  بلغ أدب الطفل مرحلة مهمة عربياً وعالمياً، إذ ص...\n4  Culture  بحضور سلطان صقر السويدي رئيس مجلس الادارة في ن...",
            "text/html": "<div>\n<style scoped>\n    .dataframe tbody tr th:only-of-type {\n        vertical-align: middle;\n    }\n\n    .dataframe tbody tr th {\n        vertical-align: top;\n    }\n\n    .dataframe thead th {\n        text-align: right;\n    }\n</style>\n<table border=\"1\" class=\"dataframe\">\n  <thead>\n    <tr style=\"text-align: right;\">\n      <th></th>\n      <th>category</th>\n      <th>text</th>\n    </tr>\n  </thead>\n  <tbody>\n    <tr>\n      <th>0</th>\n      <td>Culture</td>\n      <td>أبوظبي: آلاء عبد الغني تناولت الجلسة الثانية ف...</td>\n    </tr>\n    <tr>\n      <th>1</th>\n      <td>Culture</td>\n      <td>أعلنت مكتبة الإسكندرية أمس أنها تعمل على تنظيم...</td>\n    </tr>\n    <tr>\n      <th>2</th>\n      <td>Culture</td>\n      <td>أعلنت هيئة أبوظبي للسياحة والثقافة عن اختيار ا...</td>\n    </tr>\n    <tr>\n      <th>3</th>\n      <td>Culture</td>\n      <td>بلغ أدب الطفل مرحلة مهمة عربياً وعالمياً، إذ ص...</td>\n    </tr>\n    <tr>\n      <th>4</th>\n      <td>Culture</td>\n      <td>بحضور سلطان صقر السويدي رئيس مجلس الادارة في ن...</td>\n    </tr>\n  </tbody>\n</table>\n</div>"
          },
          "metadata": {}
        }
      ]
    },
    {
      "cell_type": "code",
      "source": [
        "df.category='__label__'+df.category.astype(str)\n",
        "df.head(5)"
      ],
      "metadata": {
        "execution": {
          "iopub.status.busy": "2023-11-02T14:50:57.608813Z",
          "iopub.execute_input": "2023-11-02T14:50:57.609353Z",
          "iopub.status.idle": "2023-11-02T14:50:57.635828Z",
          "shell.execute_reply.started": "2023-11-02T14:50:57.609308Z",
          "shell.execute_reply": "2023-11-02T14:50:57.634487Z"
        },
        "trusted": true,
        "id": "qE_o3_AzitJI",
        "outputId": "d5a48521-0ba1-4f47-fbd4-d17786d3cff2"
      },
      "execution_count": null,
      "outputs": [
        {
          "execution_count": 3,
          "output_type": "execute_result",
          "data": {
            "text/plain": "           category                                               text\n0  __label__Culture  أبوظبي: آلاء عبد الغني تناولت الجلسة الثانية ف...\n1  __label__Culture  أعلنت مكتبة الإسكندرية أمس أنها تعمل على تنظيم...\n2  __label__Culture  أعلنت هيئة أبوظبي للسياحة والثقافة عن اختيار ا...\n3  __label__Culture  بلغ أدب الطفل مرحلة مهمة عربياً وعالمياً، إذ ص...\n4  __label__Culture  بحضور سلطان صقر السويدي رئيس مجلس الادارة في ن...",
            "text/html": "<div>\n<style scoped>\n    .dataframe tbody tr th:only-of-type {\n        vertical-align: middle;\n    }\n\n    .dataframe tbody tr th {\n        vertical-align: top;\n    }\n\n    .dataframe thead th {\n        text-align: right;\n    }\n</style>\n<table border=\"1\" class=\"dataframe\">\n  <thead>\n    <tr style=\"text-align: right;\">\n      <th></th>\n      <th>category</th>\n      <th>text</th>\n    </tr>\n  </thead>\n  <tbody>\n    <tr>\n      <th>0</th>\n      <td>__label__Culture</td>\n      <td>أبوظبي: آلاء عبد الغني تناولت الجلسة الثانية ف...</td>\n    </tr>\n    <tr>\n      <th>1</th>\n      <td>__label__Culture</td>\n      <td>أعلنت مكتبة الإسكندرية أمس أنها تعمل على تنظيم...</td>\n    </tr>\n    <tr>\n      <th>2</th>\n      <td>__label__Culture</td>\n      <td>أعلنت هيئة أبوظبي للسياحة والثقافة عن اختيار ا...</td>\n    </tr>\n    <tr>\n      <th>3</th>\n      <td>__label__Culture</td>\n      <td>بلغ أدب الطفل مرحلة مهمة عربياً وعالمياً، إذ ص...</td>\n    </tr>\n    <tr>\n      <th>4</th>\n      <td>__label__Culture</td>\n      <td>بحضور سلطان صقر السويدي رئيس مجلس الادارة في ن...</td>\n    </tr>\n  </tbody>\n</table>\n</div>"
          },
          "metadata": {}
        }
      ]
    },
    {
      "cell_type": "code",
      "source": [
        "df['cat_text']=df.category+\" \"+df.text"
      ],
      "metadata": {
        "execution": {
          "iopub.status.busy": "2023-11-02T14:51:05.067168Z",
          "iopub.execute_input": "2023-11-02T14:51:05.067581Z",
          "iopub.status.idle": "2023-11-02T14:51:05.216698Z",
          "shell.execute_reply.started": "2023-11-02T14:51:05.067548Z",
          "shell.execute_reply": "2023-11-02T14:51:05.215338Z"
        },
        "trusted": true,
        "id": "EEBlash0itJJ"
      },
      "execution_count": null,
      "outputs": []
    },
    {
      "cell_type": "code",
      "source": [
        "df"
      ],
      "metadata": {
        "execution": {
          "iopub.status.busy": "2023-11-02T14:51:14.676292Z",
          "iopub.execute_input": "2023-11-02T14:51:14.676695Z",
          "iopub.status.idle": "2023-11-02T14:51:14.692675Z",
          "shell.execute_reply.started": "2023-11-02T14:51:14.676655Z",
          "shell.execute_reply": "2023-11-02T14:51:14.691418Z"
        },
        "trusted": true,
        "id": "95Kq8e78itJK",
        "outputId": "cd9dd296-d4a8-467f-9c16-2df6b88f1669"
      },
      "execution_count": null,
      "outputs": [
        {
          "execution_count": 6,
          "output_type": "execute_result",
          "data": {
            "text/plain": "               category                                               text  \\\n0      __label__Culture  أبوظبي: آلاء عبد الغني تناولت الجلسة الثانية ف...   \n1      __label__Culture  أعلنت مكتبة الإسكندرية أمس أنها تعمل على تنظيم...   \n2      __label__Culture  أعلنت هيئة أبوظبي للسياحة والثقافة عن اختيار ا...   \n3      __label__Culture  بلغ أدب الطفل مرحلة مهمة عربياً وعالمياً، إذ ص...   \n4      __label__Culture  بحضور سلطان صقر السويدي رئيس مجلس الادارة في ن...   \n...                 ...                                                ...   \n32495     __label__Tech  على هامش مشاركتها في أسبوع جيتكس للتقنية أعلنت...   \n32496     __label__Tech  أعلنت شركة إيه أم دي، عن طرح أحدث منصات الكمبي...   \n32497     __label__Tech  أبوظبي \"الخليج\":زار الفريق سيف عبدالله الشعفار...   \n32498     __label__Tech  تشارك وزارة الاقتصاد في الدورة ال 33 لأسبوع جي...   \n32499     __label__Tech  تم انتخاب لويس حكيم، نائب رئيس رويال فيليبس لل...   \n\n                                                cat_text  \n0      __label__Culture أبوظبي: آلاء عبد الغني تناولت...  \n1      __label__Culture أعلنت مكتبة الإسكندرية أمس أن...  \n2      __label__Culture أعلنت هيئة أبوظبي للسياحة وال...  \n3      __label__Culture بلغ أدب الطفل مرحلة مهمة عربي...  \n4      __label__Culture بحضور سلطان صقر السويدي رئيس ...  \n...                                                  ...  \n32495  __label__Tech على هامش مشاركتها في أسبوع جيتكس...  \n32496  __label__Tech أعلنت شركة إيه أم دي، عن طرح أحد...  \n32497  __label__Tech أبوظبي \"الخليج\":زار الفريق سيف ع...  \n32498  __label__Tech تشارك وزارة الاقتصاد في الدورة ا...  \n32499  __label__Tech تم انتخاب لويس حكيم، نائب رئيس ر...  \n\n[32500 rows x 3 columns]",
            "text/html": "<div>\n<style scoped>\n    .dataframe tbody tr th:only-of-type {\n        vertical-align: middle;\n    }\n\n    .dataframe tbody tr th {\n        vertical-align: top;\n    }\n\n    .dataframe thead th {\n        text-align: right;\n    }\n</style>\n<table border=\"1\" class=\"dataframe\">\n  <thead>\n    <tr style=\"text-align: right;\">\n      <th></th>\n      <th>category</th>\n      <th>text</th>\n      <th>cat_text</th>\n    </tr>\n  </thead>\n  <tbody>\n    <tr>\n      <th>0</th>\n      <td>__label__Culture</td>\n      <td>أبوظبي: آلاء عبد الغني تناولت الجلسة الثانية ف...</td>\n      <td>__label__Culture أبوظبي: آلاء عبد الغني تناولت...</td>\n    </tr>\n    <tr>\n      <th>1</th>\n      <td>__label__Culture</td>\n      <td>أعلنت مكتبة الإسكندرية أمس أنها تعمل على تنظيم...</td>\n      <td>__label__Culture أعلنت مكتبة الإسكندرية أمس أن...</td>\n    </tr>\n    <tr>\n      <th>2</th>\n      <td>__label__Culture</td>\n      <td>أعلنت هيئة أبوظبي للسياحة والثقافة عن اختيار ا...</td>\n      <td>__label__Culture أعلنت هيئة أبوظبي للسياحة وال...</td>\n    </tr>\n    <tr>\n      <th>3</th>\n      <td>__label__Culture</td>\n      <td>بلغ أدب الطفل مرحلة مهمة عربياً وعالمياً، إذ ص...</td>\n      <td>__label__Culture بلغ أدب الطفل مرحلة مهمة عربي...</td>\n    </tr>\n    <tr>\n      <th>4</th>\n      <td>__label__Culture</td>\n      <td>بحضور سلطان صقر السويدي رئيس مجلس الادارة في ن...</td>\n      <td>__label__Culture بحضور سلطان صقر السويدي رئيس ...</td>\n    </tr>\n    <tr>\n      <th>...</th>\n      <td>...</td>\n      <td>...</td>\n      <td>...</td>\n    </tr>\n    <tr>\n      <th>32495</th>\n      <td>__label__Tech</td>\n      <td>على هامش مشاركتها في أسبوع جيتكس للتقنية أعلنت...</td>\n      <td>__label__Tech على هامش مشاركتها في أسبوع جيتكس...</td>\n    </tr>\n    <tr>\n      <th>32496</th>\n      <td>__label__Tech</td>\n      <td>أعلنت شركة إيه أم دي، عن طرح أحدث منصات الكمبي...</td>\n      <td>__label__Tech أعلنت شركة إيه أم دي، عن طرح أحد...</td>\n    </tr>\n    <tr>\n      <th>32497</th>\n      <td>__label__Tech</td>\n      <td>أبوظبي \"الخليج\":زار الفريق سيف عبدالله الشعفار...</td>\n      <td>__label__Tech أبوظبي \"الخليج\":زار الفريق سيف ع...</td>\n    </tr>\n    <tr>\n      <th>32498</th>\n      <td>__label__Tech</td>\n      <td>تشارك وزارة الاقتصاد في الدورة ال 33 لأسبوع جي...</td>\n      <td>__label__Tech تشارك وزارة الاقتصاد في الدورة ا...</td>\n    </tr>\n    <tr>\n      <th>32499</th>\n      <td>__label__Tech</td>\n      <td>تم انتخاب لويس حكيم، نائب رئيس رويال فيليبس لل...</td>\n      <td>__label__Tech تم انتخاب لويس حكيم، نائب رئيس ر...</td>\n    </tr>\n  </tbody>\n</table>\n<p>32500 rows × 3 columns</p>\n</div>"
          },
          "metadata": {}
        }
      ]
    },
    {
      "cell_type": "code",
      "source": [
        "import re\n",
        "\n",
        "\n",
        "def preprocess(text):\n",
        "    text = re.sub(r'[^\\w\\s\\']',' ', text)\n",
        "    text = re.sub(' +', ' ', text)\n",
        "    return text.strip().lower()"
      ],
      "metadata": {
        "execution": {
          "iopub.status.busy": "2023-11-02T12:01:20.665799Z",
          "iopub.execute_input": "2023-11-02T12:01:20.666197Z",
          "iopub.status.idle": "2023-11-02T12:01:20.672584Z",
          "shell.execute_reply.started": "2023-11-02T12:01:20.666162Z",
          "shell.execute_reply": "2023-11-02T12:01:20.671452Z"
        },
        "trusted": true,
        "id": "HZSTwLqPitJK"
      },
      "execution_count": null,
      "outputs": []
    },
    {
      "cell_type": "code",
      "source": [
        "df['cat_text']=df.cat_text.apply(lambda text: preprocess(text))"
      ],
      "metadata": {
        "execution": {
          "iopub.status.busy": "2023-11-02T12:01:24.337371Z",
          "iopub.execute_input": "2023-11-02T12:01:24.337763Z",
          "iopub.status.idle": "2023-11-02T12:01:32.547911Z",
          "shell.execute_reply.started": "2023-11-02T12:01:24.337734Z",
          "shell.execute_reply": "2023-11-02T12:01:32.546449Z"
        },
        "trusted": true,
        "id": "BRcwv3hfitJK"
      },
      "execution_count": null,
      "outputs": []
    },
    {
      "cell_type": "code",
      "source": [
        "df['cat_text'][1]"
      ],
      "metadata": {
        "execution": {
          "iopub.status.busy": "2023-11-02T12:01:35.032194Z",
          "iopub.execute_input": "2023-11-02T12:01:35.033311Z",
          "iopub.status.idle": "2023-11-02T12:01:35.043348Z",
          "shell.execute_reply.started": "2023-11-02T12:01:35.033163Z",
          "shell.execute_reply": "2023-11-02T12:01:35.041770Z"
        },
        "trusted": true,
        "id": "yPvNL8pZitJK",
        "outputId": "0911cb45-509c-4819-82dd-d87cdbf20ea4"
      },
      "execution_count": null,
      "outputs": [
        {
          "execution_count": 10,
          "output_type": "execute_result",
          "data": {
            "text/plain": "'__label__culture أعلنت مكتبة الإسكندرية أمس أنها تعمل على تنظيم ندوة بالاشتراك مع المنظمة الإسلامية للتربية والعلوم والثقافة إيسيسكو حول تاريخ الكتاب العربي ودوره الحضاري من الثالث إلى الخامس من نوفمبر تشرين الثاني المقبل وقال مدير المركز الإعلامي في المكتبة خالد عزب إن عددا من الخبراء المصريين والعرب ورجال الفكر والثقافة والأساتذة الجامعيين المهتمين المتخصصين في شؤون الكتاب العربي وتاريخه سيشاركون في الندوة وبحسب خالد عزب فإن هذه الندورة تهدف إلى التعريف بالكتاب العربي ومكانته العالمية والدور الحضاري له في التواصل بين الحضارات وأثر الكتاب العربي في عصر النهضة خصوصا وتتطرق الندوة إلى ما يمثله الكتاب العربي من قيمة علمية وأدبية رفيعة تجاوز بها نظيرها في الحضارت السابقة وتمثل ذلك في العطاء النوعي والكمي الغني للمخطوطات العربية في شتى مجالات العلوم والآداب المعروفة حينها وأشار عزب إلى ما حملته حركة النقل من اللغة العربية وإليها من تنوع ثقافي يعكسه الكتاب العربي وذلك لما يحمله من علوم الأمم السابقة وآدابها من جهة ولما أضافته الثقافة العربية الإسلامية من نتاج علمائها ومفكريها على اختلاف أعراقهم وبلدانهم من جهة أخرى وقال هذا الدور للمخطوطات العربية أوجد في عصر النهضة مادة غنية من العلوم والمعارف فشجع على ترجمتها ودراسة بعضها في الجامعات الأوروبية خلال تلك الفترة التي كانت أوروبا تتلمس فيها دروب النور نحو مستقبلها الواعد'"
          },
          "metadata": {}
        }
      ]
    },
    {
      "cell_type": "code",
      "source": [
        "from sklearn.model_selection import train_test_split\n",
        "\n",
        "train, test = train_test_split(df, test_size=0.2)"
      ],
      "metadata": {
        "execution": {
          "iopub.status.busy": "2023-11-02T15:32:08.368128Z",
          "iopub.execute_input": "2023-11-02T15:32:08.368519Z",
          "iopub.status.idle": "2023-11-02T15:32:09.301121Z",
          "shell.execute_reply.started": "2023-11-02T15:32:08.368489Z",
          "shell.execute_reply": "2023-11-02T15:32:09.300160Z"
        },
        "trusted": true,
        "id": "vFdujMw1itJL"
      },
      "execution_count": null,
      "outputs": []
    },
    {
      "cell_type": "code",
      "source": [
        "train.shape, test.shape"
      ],
      "metadata": {
        "execution": {
          "iopub.status.busy": "2023-11-02T12:02:07.566805Z",
          "iopub.execute_input": "2023-11-02T12:02:07.567242Z",
          "iopub.status.idle": "2023-11-02T12:02:07.575150Z",
          "shell.execute_reply.started": "2023-11-02T12:02:07.567208Z",
          "shell.execute_reply": "2023-11-02T12:02:07.573707Z"
        },
        "trusted": true,
        "id": "zmN21v5AitJL",
        "outputId": "34c643c6-93e7-42dc-98dd-4fad433326a1"
      },
      "execution_count": null,
      "outputs": [
        {
          "execution_count": 12,
          "output_type": "execute_result",
          "data": {
            "text/plain": "((26000, 3), (6500, 3))"
          },
          "metadata": {}
        }
      ]
    },
    {
      "cell_type": "code",
      "source": [
        "train.to_csv(\"data.train\", columns=[\"cat_text\"], index=False, header=False)\n",
        "test.to_csv(\"data.test\", columns=[\"cat_text\"], index=False, header=False)"
      ],
      "metadata": {
        "execution": {
          "iopub.status.busy": "2023-11-02T15:32:12.736768Z",
          "iopub.execute_input": "2023-11-02T15:32:12.737302Z",
          "iopub.status.idle": "2023-11-02T15:32:16.322693Z",
          "shell.execute_reply.started": "2023-11-02T15:32:12.737253Z",
          "shell.execute_reply": "2023-11-02T15:32:16.321657Z"
        },
        "trusted": true,
        "id": "E-xCkugFitJL"
      },
      "execution_count": null,
      "outputs": []
    },
    {
      "cell_type": "code",
      "source": [
        "import fasttext\n",
        "model=fasttext.train_supervised(input=\"data.train\")\n",
        "result = model.test(\"data.test\")"
      ],
      "metadata": {
        "execution": {
          "iopub.status.busy": "2023-11-02T15:45:34.291614Z",
          "iopub.execute_input": "2023-11-02T15:45:34.292021Z",
          "iopub.status.idle": "2023-11-02T15:45:45.753719Z",
          "shell.execute_reply.started": "2023-11-02T15:45:34.291991Z",
          "shell.execute_reply": "2023-11-02T15:45:45.752316Z"
        },
        "trusted": true,
        "id": "aw46if63itJM",
        "outputId": "e11b9e37-11e1-4773-fabb-e5a8a9a385c7"
      },
      "execution_count": null,
      "outputs": [
        {
          "name": "stderr",
          "text": "Read 8M words\nNumber of words:  451530\nNumber of labels: 5\nProgress: 100.0% words/sec/thread: 1703347 lr:  0.000000 avg.loss:  0.311757 ETA:   0h 0m 0s 0.369994 ETA:   0h 0m 1s\n",
          "output_type": "stream"
        }
      ]
    },
    {
      "cell_type": "code",
      "source": [
        "n_samples, precision, recall = result\n",
        "\n",
        "accuracy = precision\n",
        "\n",
        "print(f'Accuracy: {accuracy:.2f}')"
      ],
      "metadata": {
        "execution": {
          "iopub.status.busy": "2023-11-02T15:45:50.749485Z",
          "iopub.execute_input": "2023-11-02T15:45:50.749897Z",
          "iopub.status.idle": "2023-11-02T15:45:50.758328Z",
          "shell.execute_reply.started": "2023-11-02T15:45:50.749865Z",
          "shell.execute_reply": "2023-11-02T15:45:50.756951Z"
        },
        "trusted": true,
        "id": "f41AF6lOitJM",
        "outputId": "499ffb1a-aaa6-4033-922d-3329eaf0557e"
      },
      "execution_count": null,
      "outputs": [
        {
          "name": "stdout",
          "text": "Accuracy: 0.98\n",
          "output_type": "stream"
        }
      ]
    },
    {
      "cell_type": "code",
      "source": [
        "print(df['text'][1002])\n",
        "model.predict(df['text'][1002])"
      ],
      "metadata": {
        "execution": {
          "iopub.status.busy": "2023-11-01T19:48:08.457716Z",
          "iopub.execute_input": "2023-11-01T19:48:08.458457Z",
          "iopub.status.idle": "2023-11-01T19:48:08.469459Z",
          "shell.execute_reply.started": "2023-11-01T19:48:08.458412Z",
          "shell.execute_reply": "2023-11-01T19:48:08.468258Z"
        },
        "trusted": true,
        "id": "_IZ_19OwitJM",
        "outputId": "3648bc8e-3e70-42b5-e00b-c4240313e3ef"
      },
      "execution_count": null,
      "outputs": [
        {
          "name": "stdout",
          "text": "تنطلق اليوم فعاليات المعرض الوطني الخامس للفنون التشكيلية للعام 2011 التي ينظمها نادي ضباط القوات المسلحة على هامش بطولته الرياضية الرمضانية، وذلك برعاية عبدالرحمن محمد العويس وزير الثقافة والشباب وتنمية المجتمع رئيس الهيئة العامة لرعاية الشباب والرياضة .يشارك في المعرض 300 فنان من مختلف الجنسيات بلوحات تشكيلية وأخرى نحتية وصور فوتوغرافية وحروفيات وخط عربي وتركيب وخزفيات .ووجه مجلس إدارة النادي الدعوة لعدد من الشخصيات المعنية بهذا المجال من بينهم الفنانون التشكيليون والمصورون الفوتوغرافيون والنحاتون في الدولة .ويمثل المعرض السنوي أحد ملتقيات المهتمين على مستوى الدولة بهذا الفن، لتبادل الخبرات والتواصل المستمر والتعارف بين الفنانين ما ينعكس إيجابا على العطاء الفني وإثراء الحركة والساحة التشكيلية الإماراتية مع مختلف المدارس الفنية في مختلف النواحي الواقعية أو الرمزية أو التجريدية أو الحداثية أو التقليدية . (وام)\n",
          "output_type": "stream"
        },
        {
          "execution_count": 27,
          "output_type": "execute_result",
          "data": {
            "text/plain": "(('__label__culture',), array([0.983558]))"
          },
          "metadata": {}
        }
      ]
    },
    {
      "cell_type": "code",
      "source": [
        "model.predict(\"أوصى بنك أبوظبي التجاري في تقرير حديث له بشراء سهم شركة الإمارات للاتصالات المتكاملة دو، وحددت القيمة العادلة لسهم الشركة عند 7 دراهم مقارنة بسعر وصل الى 6،01 درهم لدى إغلاق يوم أمس .ورجح التقرير أن تنمو عائدات الشركة الى 3،83 مليار درهم هذا العام مقارنة بحوالي 1،54 مليار درهم، أي بنمو يصل معدله الى 149% تقريباً . وتوقع أن تقفز أرباح الشركة الإجمالية من 859 مليون درهم في 2007 الى 2،37 مليار درهم هذا العام بنمو 176% .ويتوقع البنك أن تتراجع خسائر دو الى النصف تقريباً هذا العام لتصل الى 447 مليون درهم مقارنة بخسارة وصلت الى 885 مليون درهم عام 2007 .ورجح أن تبدأ الشركة في در الأرباح بحلول العام المقبل لتسجل أرباحاً تصل الى 136 مليون درهم، وتوقع أن تسجل الأرباح قفزة لتصل الى 530 مليون درهم بحلول عام 2010 .وقدر أن يصل مضاعف ربحية السهم الى 178،2 ضعف في 2009 ليتراجع الى 45،6 ضعف بحلول عام 2010 .\")"
      ],
      "metadata": {
        "execution": {
          "iopub.status.busy": "2023-11-02T15:46:39.165252Z",
          "iopub.execute_input": "2023-11-02T15:46:39.165648Z",
          "iopub.status.idle": "2023-11-02T15:46:39.176047Z",
          "shell.execute_reply.started": "2023-11-02T15:46:39.165620Z",
          "shell.execute_reply": "2023-11-02T15:46:39.174477Z"
        },
        "trusted": true,
        "id": "t5CQmsBSitJM",
        "outputId": "d741a156-75b7-4814-cba2-a12f7e7d75a0"
      },
      "execution_count": null,
      "outputs": [
        {
          "execution_count": 12,
          "output_type": "execute_result",
          "data": {
            "text/plain": "(('__label__Finance',), array([0.99973208]))"
          },
          "metadata": {}
        }
      ]
    }
  ]
}